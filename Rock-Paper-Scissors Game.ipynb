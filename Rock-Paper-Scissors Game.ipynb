{
 "cells": [
  {
   "cell_type": "markdown",
   "id": "12a0afe1-563a-4df0-8606-e4bd0fa89130",
   "metadata": {},
   "source": [
    "# <en><center>Rock-Paper-Scissors Game</center></en>"
   ]
  },
  {
   "cell_type": "markdown",
   "id": "edf70c11-2bf1-4d39-9472-4d16a2cfe4ef",
   "metadata": {},
   "source": [
    "> The classic rock-paper-scissors game.\n",
    "> "
   ]
  },
  {
   "cell_type": "markdown",
   "id": "7009ed59-619a-4770-b6b4-06ca26b07581",
   "metadata": {},
   "source": [
    "## Libraries"
   ]
  },
  {
   "cell_type": "code",
   "execution_count": 8,
   "id": "d935ceaa-35f6-4787-9c1a-d26586f475fa",
   "metadata": {},
   "outputs": [],
   "source": [
    "import random\n",
    "import sys"
   ]
  },
  {
   "cell_type": "code",
   "execution_count": 5,
   "id": "15c9a9f6-9cdc-46d7-a2ea-4747bfea84c5",
   "metadata": {},
   "outputs": [],
   "source": [
    "rock = '''\n",
    "    _______\n",
    "---'   ____)\n",
    "      (_____)\n",
    "      (_____)\n",
    "      (____)\n",
    "---.__(___)\n",
    "'''\n",
    "\n",
    "paper = '''\n",
    "    _______\n",
    "---'   ____)____\n",
    "          ______)\n",
    "          _______)\n",
    "         _______)\n",
    "---.__________)\n",
    "'''\n",
    "\n",
    "scissors = '''\n",
    "    _______\n",
    "---'   ____)____\n",
    "          ______)\n",
    "       __________)\n",
    "      (____)\n",
    "---.__(___)\n",
    "'''"
   ]
  },
  {
   "cell_type": "code",
   "execution_count": 12,
   "id": "6203314a-dbe7-4a84-96d5-7cf19bc04d54",
   "metadata": {},
   "outputs": [],
   "source": [
    "def rock_paper_scissors():\n",
    "    player_input = input(\"Choose: (R)ock, (P)aper, (S)cissors \\n\").lower()\n",
    "\n",
    "    computer_choice = random.choice([rock, paper, scissors])\n",
    "\n",
    "    print(\"3 \\n\")\n",
    "    print(\"...\")\n",
    "    print(\"2 \\n\")\n",
    "    print(\"...\")\n",
    "    print(\"1 \\n\")\n",
    "    print(\"GO!!!\")\n",
    "\n",
    "    # Player win conditions\n",
    "\n",
    "    if ((player_input == \"r\") and (computer_choice == scissors)) \\\n",
    "        or (player_input == \"p\") and (computer_choice == rock) \\\n",
    "        or (player_input == \"s\") and (computer_choice == paper):\n",
    "        \n",
    "        if (player_input == \"r\") and (computer_choice == scissors):\n",
    "            print(\"Player chooses:\\n{}\".format(rock))\n",
    "            print(\"...and\")\n",
    "            print(\"The computer chose \\n{}\".format(scissors))\n",
    "            print(\"You Win!!!\")\n",
    "            print(\"Let's play again.\")\n",
    "            \n",
    "        elif (player_input == \"p\") and (computer_choice == rock):\n",
    "            print(\"Player chooses:\\n{}\".format(paper))\n",
    "            print(\"...and\")\n",
    "            print(\"The computer chose \\n{}\".format(rock))\n",
    "            print(\"You Win!!!\")\n",
    "            print(\"Let's play again.\")\n",
    "        \n",
    "        else:\n",
    "            print(\"Player chooses:\\n{}\".format(scissors))\n",
    "            print(\"...and\")\n",
    "            print(\"The computer chose \\n{}\".format(paper))\n",
    "            print(\"You Win!!!\")\n",
    "            print(\"Let's play again.\")\n",
    "\n",
    "    # Player lose conditions\n",
    "\n",
    "    elif ((player_input == \"r\") and (computer_choice == paper)) \\\n",
    "        or ((player_input == \"p\") and (computer_choice == scissors)) \\\n",
    "        or ((player_input == \"s\") and (computer_choice == rock)):\n",
    "        \n",
    "        if (player_input == \"r\") and (computer_choice == paper):\n",
    "            print(\"Player chooses:\\n{}\".format(rock))\n",
    "            print(\"...and\")\n",
    "            print(\"The computer chose \\n{}\".format(paper))\n",
    "            print(\"The computer Wins!!!\")\n",
    "            print(\"Let's play again.\")\n",
    "\n",
    "        elif (player_input == \"p\") and (computer_choice == scissors):\n",
    "            print(\"Player chooses:\\n{}\".format(paper))\n",
    "            print(\"...and\")\n",
    "            print(\"The computer chose \\n{}\".format(scissors))\n",
    "            print(\"The computer Wins!!!\")\n",
    "            print(\"Let's play again.\")\n",
    "\n",
    "        else:\n",
    "            print(\"Player chooses:\\n{}\".format(scissors))\n",
    "            print(\"...and\")\n",
    "            print(\"The computer chose \\n{}\".format(rock))\n",
    "            print(\"The computer Wins!!!\")\n",
    "            print(\"Let's play again.\")\n",
    "\n",
    "    # Game draw conditions\n",
    "    else:\n",
    "        print(\"Player chooses:\\n{}\".format(computer_choice))\n",
    "        print(\"...and\")\n",
    "        print(\"The computer chose \\n{}\".format(computer_choice))\n",
    "        print(f\"It is a draw, let's play again!\")\n",
    "    \n",
    "    print(\"Would you like to play again?\")   \n",
    "    play_again = input(\"Type (N) for no and (Y) for Yes\").lower()\n",
    "    \n",
    "    \n",
    "    if play_again == \"Y\":\n",
    "        rock_paper_scissors()\n",
    "    else:\n",
    "        sys.quit()"
   ]
  },
  {
   "cell_type": "code",
   "execution_count": 14,
   "id": "3eda673d",
   "metadata": {},
   "outputs": [
    {
     "name": "stdout",
     "output_type": "stream",
     "text": [
      "3 \n",
      "\n",
      "...\n",
      "2 \n",
      "\n",
      "...\n",
      "1 \n",
      "\n",
      "GO!!!\n",
      "Player chooses:\n",
      "\n",
      "    _______\n",
      "---'   ____)\n",
      "      (_____)\n",
      "      (_____)\n",
      "      (____)\n",
      "---.__(___)\n",
      "\n",
      "...and\n",
      "The computer chose \n",
      "\n",
      "    _______\n",
      "---'   ____)\n",
      "      (_____)\n",
      "      (_____)\n",
      "      (____)\n",
      "---.__(___)\n",
      "\n",
      "It is a draw, let's play again!\n",
      "Would you like to play again?\n"
     ]
    }
   ],
   "source": [
    "rock_paper_scissors()"
   ]
  }
 ],
 "metadata": {
  "kernelspec": {
   "display_name": "Python 3 (ipykernel)",
   "language": "python",
   "name": "python3"
  },
  "language_info": {
   "codemirror_mode": {
    "name": "ipython",
    "version": 3
   },
   "file_extension": ".py",
   "mimetype": "text/x-python",
   "name": "python",
   "nbconvert_exporter": "python",
   "pygments_lexer": "ipython3",
   "version": "3.12.4"
  }
 },
 "nbformat": 4,
 "nbformat_minor": 5
}
